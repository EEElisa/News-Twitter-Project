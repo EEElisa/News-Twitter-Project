{
 "cells": [
  {
   "cell_type": "code",
   "execution_count": 12,
   "metadata": {},
   "outputs": [],
   "source": [
    "import requests \n",
    "from requests_oauthlib import OAuth1\n",
    "import os\n",
    "import json\n",
    "import TwitterSecrets"
   ]
  },
  {
   "cell_type": "code",
   "execution_count": null,
   "metadata": {},
   "outputs": [],
   "source": [
    "CACHE_FILENAME = \"Twitter_cache.json\"\n",
    "CACHE_DICT = {}"
   ]
  },
  {
   "cell_type": "code",
   "execution_count": 13,
   "metadata": {},
   "outputs": [],
   "source": [
    "bearer_token = TwitterSecrets.Bearer_Token\n",
    "client_key = TwitterSecrets.API_Key\n",
    "client_secret = TwitterSecrets.API_Key_Secret \n",
    "access_token = TwitterSecrets.Access_Token\n",
    "access_token_secret = TwitterSecrets.Access_Token_Secret"
   ]
  },
  {
   "cell_type": "code",
   "execution_count": null,
   "metadata": {},
   "outputs": [],
   "source": [
    "def open_cache():\n",
    "    ''' opens the cache file if it exists and loads the JSON into\n",
    "    a dictionary, which it then returns.\n",
    "    if the cache file doesn't exist, creates a new cache dictionary\n",
    "    Parameters\n",
    "    ----------\n",
    "    None\n",
    "    Returns\n",
    "    -------\n",
    "    The opened cache\n",
    "    '''\n",
    "    try:\n",
    "        cache_file = open(CACHE_FILENAME, 'r')\n",
    "        cache_contents = cache_file.read()\n",
    "        cache_dict = json.loads(cache_contents)\n",
    "        cache_file.close()\n",
    "    except:\n",
    "        cache_dict = {}\n",
    "    return cache_dict"
   ]
  },
  {
   "cell_type": "code",
   "execution_count": 10,
   "metadata": {},
   "outputs": [],
   "source": [
    "def save_cache(cache_dict):\n",
    "    ''' saves the current state of the cache to disk\n",
    "    Parameters\n",
    "    ----------\n",
    "    cache_dict: dict\n",
    "        The dictionary to save\n",
    "    Returns\n",
    "    -------\n",
    "    None\n",
    "    '''\n",
    "    dumped_json_cache = json.dumps(cache_dict)\n",
    "    fw = open(CACHE_FILENAME,\"w\")\n",
    "    fw.write(dumped_json_cache)\n",
    "    fw.close() "
   ]
  },
  {
   "cell_type": "code",
   "execution_count": 14,
   "metadata": {},
   "outputs": [],
   "source": [
    "search_url = \"https://api.twitter.com/2/tweets/search/recent\""
   ]
  },
  {
   "cell_type": "code",
   "execution_count": 15,
   "metadata": {},
   "outputs": [],
   "source": [
    "query_params = {'query': '#MarchMadness'}"
   ]
  },
  {
   "cell_type": "code",
   "execution_count": 16,
   "metadata": {},
   "outputs": [],
   "source": [
    "def bearer_oauth(r):\n",
    "    \"\"\"\n",
    "    Method required by bearer token authentication.\n",
    "    \"\"\"\n",
    "\n",
    "    r.headers[\"Authorization\"] = f\"Bearer {bearer_token}\"\n",
    "    r.headers[\"User-Agent\"] = \"v2RecentSearchPython\"\n",
    "    return r"
   ]
  },
  {
   "cell_type": "code",
   "execution_count": 17,
   "metadata": {},
   "outputs": [],
   "source": [
    "def connect_to_endpoint(url, params):\n",
    "    response = requests.get(url, auth=bearer_oauth, params=params)\n",
    "    print(response.status_code)\n",
    "    if response.status_code != 200:\n",
    "        raise Exception(response.status_code, response.text)\n",
    "    return response.json()"
   ]
  },
  {
   "cell_type": "code",
   "execution_count": 7,
   "metadata": {},
   "outputs": [
    {
     "name": "stdout",
     "output_type": "stream",
     "text": [
      "200\n",
      "{\n",
      "    \"data\": [\n",
      "        {\n",
      "            \"edit_history_tweet_ids\": [\n",
      "                \"1600143707419860993\"\n",
      "            ],\n",
      "            \"id\": \"1600143707419860993\",\n",
      "            \"text\": \"\\ud83d\\udcc8 There have been some key risers and fallers in the latest Top 25 rankings in college basketball this week\\n\\n\\ud83c\\udfc0 We cover what that means for the teams involved and how their betting value might be impacted \\ud83d\\udc47\\n\\n#MarchMadness\\n\\nhttps://t.co/xSAY48sF8y\"\n",
      "        },\n",
      "        {\n",
      "            \"edit_history_tweet_ids\": [\n",
      "                \"1600102720173547520\"\n",
      "            ],\n",
      "            \"id\": \"1600102720173547520\",\n",
      "            \"text\": \"Purchase \\u201cTransparency: A Headstart to Collegiate Sports\\u201d today for tips on:\\n\\n\\ud83d\\udccdMental Health\\n\\ud83d\\udccdNetworking Deals\\n\\ud83d\\udccdGame Preperation\\n\\ud83d\\udccdInjury/Rehab\\n\\ud83d\\udccdIdentity Crisis\\n\\nhttps://t.co/wxTR2kSLRT\\n\\n#collegeprep #collegebasketball #studentathlete #marchmadness https://t.co/c5Mpdyi0Y4\"\n",
      "        },\n",
      "        {\n",
      "            \"edit_history_tweet_ids\": [\n",
      "                \"1600102212335591424\"\n",
      "            ],\n",
      "            \"id\": \"1600102212335591424\",\n",
      "            \"text\": \"Purchase \\u201cTransparency: A Headstart to Collegiate Sports\\u201d today for tips on:\\n\\n\\ud83d\\udccdMental Health\\n\\ud83d\\udccdNetworking Deals\\n\\ud83d\\udccdGame Preperation\\n\\ud83d\\udccdInjury/Rehab\\n\\ud83d\\udccdIdentity Crisis\\n\\nhttps://t.co/wxTR2kSLRT\\n\\n#collegeprep #collegebasketball #studentathlete #marchmadness https://t.co/mLtG3LZjKS\"\n",
      "        },\n",
      "        {\n",
      "            \"edit_history_tweet_ids\": [\n",
      "                \"1600101454143901697\"\n",
      "            ],\n",
      "            \"id\": \"1600101454143901697\",\n",
      "            \"text\": \"RT @JadaHargrove: Purchase \\u201cTransparency: A Headstart to Collegiate Sports\\u201d today for tips on:\\n\\n\\ud83d\\udccdMental Health\\n\\ud83d\\udccdNetworking Deals\\n\\ud83d\\udccdGame Prep\\u2026\"\n",
      "        },\n",
      "        {\n",
      "            \"edit_history_tweet_ids\": [\n",
      "                \"1600048791327215616\"\n",
      "            ],\n",
      "            \"id\": \"1600048791327215616\",\n",
      "            \"text\": \"RT @BarackObama: Like many of you, I\\u2019m thrilled that #MarchMadness is finally back. You can check out my picks here: https://t.co/S5mlQofvA\\u2026\"\n",
      "        },\n",
      "        {\n",
      "            \"edit_history_tweet_ids\": [\n",
      "                \"1600036314652749825\"\n",
      "            ],\n",
      "            \"id\": \"1600036314652749825\",\n",
      "            \"text\": \"RT @BarackObama: Like many of you, I\\u2019m thrilled that #MarchMadness is finally back. You can check out my picks here: https://t.co/S5mlQofvA\\u2026\"\n",
      "        },\n",
      "        {\n",
      "            \"edit_history_tweet_ids\": [\n",
      "                \"1600017439344893952\"\n",
      "            ],\n",
      "            \"id\": \"1600017439344893952\",\n",
      "            \"text\": \"a christmas card...\\n\\n#midjourney #competition #influencer #influencermarketing #fridayfeeling #MondayMotivation #raw_ai #robinzz3  #vero_ai_creators #fitness #COVID19 #art #MarchMadness #love #canvadesignchallenge #canva https://t.co/gHCqm81HXQ\"\n",
      "        },\n",
      "        {\n",
      "            \"edit_history_tweet_ids\": [\n",
      "                \"1600013496879435776\"\n",
      "            ],\n",
      "            \"id\": \"1600013496879435776\",\n",
      "            \"text\": \"RT @jimdonovancbs3: Every March we do our own version of #MarchMadness , we call it the #BattleOfTheNewsroomSocks.   Today I kick things of\\u2026\"\n",
      "        },\n",
      "        {\n",
      "            \"edit_history_tweet_ids\": [\n",
      "                \"1600003512414240769\"\n",
      "            ],\n",
      "            \"id\": \"1600003512414240769\",\n",
      "            \"text\": \"RT @BarackObama: It\\u2019s been a great year for college basketball, and now #MarchMadness is officially back. I\\u2019m excited for some of the young\\u2026\"\n",
      "        },\n",
      "        {\n",
      "            \"edit_history_tweet_ids\": [\n",
      "                \"1599997335500570624\"\n",
      "            ],\n",
      "            \"id\": \"1599997335500570624\",\n",
      "            \"text\": \"RT @breannastewart: March is always a special month to me and today doing #womenshistorymonth and #marchmadness, I\\u2019m excited to announce my\\u2026\"\n",
      "        }\n",
      "    ],\n",
      "    \"meta\": {\n",
      "        \"newest_id\": \"1600143707419860993\",\n",
      "        \"next_token\": \"b26v89c19zqg8o3fpzhn0ka2mtqzrw67gomibycibhke5\",\n",
      "        \"oldest_id\": \"1599997335500570624\",\n",
      "        \"result_count\": 10\n",
      "    }\n",
      "}\n"
     ]
    }
   ],
   "source": [
    "def main():\n",
    "    json_response = connect_to_endpoint(search_url, query_params)\n",
    "    print(json.dumps(json_response, indent=4, sort_keys=True))\n",
    "\n",
    "\n",
    "if __name__ == \"__main__\":\n",
    "    main()"
   ]
  }
 ],
 "metadata": {
  "kernelspec": {
   "display_name": "Python 3.9.1 ('intro-ml')",
   "language": "python",
   "name": "python3"
  },
  "language_info": {
   "codemirror_mode": {
    "name": "ipython",
    "version": 3
   },
   "file_extension": ".py",
   "mimetype": "text/x-python",
   "name": "python",
   "nbconvert_exporter": "python",
   "pygments_lexer": "ipython3",
   "version": "3.9.1"
  },
  "orig_nbformat": 4,
  "vscode": {
   "interpreter": {
    "hash": "a90754bc3e9035cc6de411bb554fd90ec3adb519fa82be48180d0ab3a9c9ab95"
   }
  }
 },
 "nbformat": 4,
 "nbformat_minor": 2
}
